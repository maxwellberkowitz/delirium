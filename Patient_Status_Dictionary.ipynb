{
 "cells": [
  {
   "cell_type": "code",
   "execution_count": 5,
   "metadata": {},
   "outputs": [],
   "source": [
    "\"\"\"\n",
    "@author Justin Harrison\n",
    "\"\"\"\n",
    "\n",
    "IDStatusDict = {2:1,\n",
    "               3:0,\n",
    "               4:1,\n",
    "               5:1,\n",
    "               6:1,\n",
    "               8:1,\n",
    "               9:0,\n",
    "               10:0,\n",
    "               11:1,\n",
    "               12:1,\n",
    "               13:0,\n",
    "               14:0,\n",
    "               15:1,\n",
    "               16:0,\n",
    "               17:1,\n",
    "               18:1,\n",
    "               19:1,\n",
    "               20:1,\n",
    "               21:1,\n",
    "               22:1,\n",
    "               23:1,\n",
    "               24:1,\n",
    "               25:1,\n",
    "               26:1,\n",
    "               27:1,\n",
    "               28:0,\n",
    "               29:1,\n",
    "               30:0,\n",
    "               31:1,\n",
    "               32:0,\n",
    "               33:1,\n",
    "               34:0,\n",
    "               35:1,\n",
    "               36:0,\n",
    "               37:1,\n",
    "               38:0,\n",
    "               39:0,\n",
    "               40:0,\n",
    "               42:1,\n",
    "               43:1,\n",
    "               44:1,\n",
    "               45:1,\n",
    "               46:1,\n",
    "               47:0,\n",
    "               49:0,\n",
    "               50:1,\n",
    "               51:1,\n",
    "               52:0,\n",
    "               53:1,\n",
    "               54:0,\n",
    "               55:1,\n",
    "               56:0}"
   ]
  },
  {
   "cell_type": "code",
   "execution_count": null,
   "metadata": {},
   "outputs": [],
   "source": []
  }
 ],
 "metadata": {
  "kernelspec": {
   "display_name": "Python 3",
   "language": "python",
   "name": "python3"
  },
  "language_info": {
   "codemirror_mode": {
    "name": "ipython",
    "version": 3
   },
   "file_extension": ".py",
   "mimetype": "text/x-python",
   "name": "python",
   "nbconvert_exporter": "python",
   "pygments_lexer": "ipython3",
   "version": "3.6.5"
  }
 },
 "nbformat": 4,
 "nbformat_minor": 2
}
