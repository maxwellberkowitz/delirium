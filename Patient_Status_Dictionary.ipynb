{
 "cells": [
  {
   "cell_type": "code",
   "execution_count": 5,
   "metadata": {},
   "outputs": [],
   "source": [
    "\"\"\"\n",
    "@author Justin Harrison\n",
    "\"\"\"\n",
    "\n",
    "IDStatusDict = {2:1,3:0,4:1,5:1,6:1,8:1,9:0,10:0,11:1,12:1,13:0,14:0,15:1,16:0,17:1,18:1,19:1,20:1,21:1,22:1,23:1,24:1,25:1,26:1,27:1,28:0,29:1,30:0,31:1,32:0,33:1,34:0,35:1,36:0,37:1,38:0,39:0,40:0,42:1,43:1,44:1,45:1,46:1,47:0,49:0,50:1,51:1,52:0,53:1,54:0,55:1,56:0}"
   ]
  },
  {
   "cell_type": "code",
   "execution_count": null,
   "metadata": {},
   "outputs": [],
   "source": []
  }
 ],
 "metadata": {
  "kernelspec": {
   "display_name": "Python 3",
   "language": "python",
   "name": "python3"
  },
  "language_info": {
   "codemirror_mode": {
    "name": "ipython",
    "version": 3
   },
   "file_extension": ".py",
   "mimetype": "text/x-python",
   "name": "python",
   "nbconvert_exporter": "python",
   "pygments_lexer": "ipython3",
   "version": "3.6.5"
  }
 },
 "nbformat": 4,
 "nbformat_minor": 2
}
