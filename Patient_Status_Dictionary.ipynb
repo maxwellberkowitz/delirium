{
 "cells": [
  {
   "cell_type": "code",
   "execution_count": 5,
   "metadata": {},
   "outputs": [],
   "source": [
    "IDStatusDict = {\"cf2\":\"1\",\n",
    "               \"cf3\":\"0\",\n",
    "               \"cf4\":\"1\",\n",
    "               \"cf5\":\"1\",\n",
    "               \"cf6\":\"1\",\n",
    "               \"cf8\":\"1\",\n",
    "               \"cf9\":\"0\",\n",
    "               \"cf10\":\"0\",\n",
    "               \"cf11\":\"1\",\n",
    "               \"cf12\":\"1\",\n",
    "               \"cf13\":\"0\",\n",
    "               \"cf14\":\"0\",\n",
    "               \"cf15\":\"1\",\n",
    "               \"cf16\":\"0\",\n",
    "               \"cf17\":\"1\",\n",
    "               \"cf18\":\"1\",\n",
    "               \"cf19\":\"1\",\n",
    "               \"cf20\":\"1\",\n",
    "               \"cf21\":\"1\",\n",
    "               \"cf22\":\"1\",\n",
    "               \"cf23\":\"1\",\n",
    "               \"cf24\":\"1\",\n",
    "               \"cf25\":\"1\",\n",
    "               \"cf26\":\"1\",\n",
    "               \"cf27\":\"1\",\n",
    "               \"cf28\":\"0\",\n",
    "               \"cf29\":\"1\",\n",
    "               \"cf30\":\"0\",\n",
    "               \"cf31\":\"1\",\n",
    "               \"cf32\":\"0\",\n",
    "               \"cf33\":\"1\",\n",
    "               \"cf34\":\"0\",\n",
    "               \"cf35\":\"1\",\n",
    "               \"cf36\":\"0\",\n",
    "               \"cf37\":\"1\",\n",
    "               \"cf38\":\"0\",\n",
    "               \"cf39\":\"0\",\n",
    "               \"cf40\":\"0\",\n",
    "               \"cf42\":\"1\",\n",
    "               \"cf43\":\"1\",\n",
    "               \"cf44\":\"1\",\n",
    "               \"cf45\":\"1\",\n",
    "               \"cf46\":\"1\",\n",
    "               \"cf47\":\"0\",\n",
    "               \"cf49\":\"0\",\n",
    "               \"cf50\":\"1\",\n",
    "               \"cf51\":\"1\",\n",
    "               \"cf52\":\"0\",\n",
    "               \"cf53\":\"1\",\n",
    "               \"cf54\":\"0\",\n",
    "               \"cf55\":\"1\",\n",
    "               \"cf56\":\"0\",}"
   ]
  },
  {
   "cell_type": "code",
   "execution_count": null,
   "metadata": {},
   "outputs": [],
   "source": []
  }
 ],
 "metadata": {
  "kernelspec": {
   "display_name": "Python 3",
   "language": "python",
   "name": "python3"
  },
  "language_info": {
   "codemirror_mode": {
    "name": "ipython",
    "version": 3
   },
   "file_extension": ".py",
   "mimetype": "text/x-python",
   "name": "python",
   "nbconvert_exporter": "python",
   "pygments_lexer": "ipython3",
   "version": "3.6.5"
  }
 },
 "nbformat": 4,
 "nbformat_minor": 2
}
